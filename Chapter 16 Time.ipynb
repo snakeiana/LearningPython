{
 "cells": [
  {
   "cell_type": "markdown",
   "metadata": {},
   "source": [
    "# Exercices from chapter 16"
   ]
  },
  {
   "cell_type": "code",
   "execution_count": 1,
   "metadata": {},
   "outputs": [],
   "source": [
    "import time\n",
    "import numpy as np\n",
    "import datetime"
   ]
  },
  {
   "cell_type": "markdown",
   "metadata": {},
   "source": [
    "### Exercise 16.1. \n",
    "\n",
    "Write a function called 'mul_time' that takes a 'Time' object and a number and returns a new 'Time' object that contains the product of the original Time and the number.\n",
    "Then use 'mul_time' to write a function that takes a 'Time' object that represents the finishing time in a race, and a number that represents the distance, and returns a 'Time'object that represents the average pace (time per mile)."
   ]
  },
  {
   "cell_type": "code",
   "execution_count": 3,
   "metadata": {},
   "outputs": [
    {
     "ename": "NameError",
     "evalue": "name 'Time' is not defined",
     "output_type": "error",
     "traceback": [
      "\u001b[0;31m---------------------------------------------------------------------------\u001b[0m",
      "\u001b[0;31mNameError\u001b[0m                                 Traceback (most recent call last)",
      "\u001b[0;32m<ipython-input-3-c550c1e1e889>\u001b[0m in \u001b[0;36m<module>\u001b[0;34m\u001b[0m\n\u001b[0;32m----> 1\u001b[0;31m \u001b[0;32mclass\u001b[0m \u001b[0mTime\u001b[0m\u001b[0;34m(\u001b[0m\u001b[0mobject\u001b[0m\u001b[0;34m)\u001b[0m\u001b[0;34m:\u001b[0m\u001b[0;34m\u001b[0m\u001b[0;34m\u001b[0m\u001b[0m\n\u001b[0m\u001b[1;32m      2\u001b[0m     \u001b[0mtime\u001b[0m \u001b[0;34m=\u001b[0m \u001b[0mTime\u001b[0m\u001b[0;34m(\u001b[0m\u001b[0mobject\u001b[0m\u001b[0;34m)\u001b[0m\u001b[0;34m\u001b[0m\u001b[0;34m\u001b[0m\u001b[0m\n\u001b[1;32m      3\u001b[0m     \u001b[0mtime\u001b[0m\u001b[0;34m.\u001b[0m\u001b[0mhour\u001b[0m \u001b[0;34m=\u001b[0m \u001b[0;36m11\u001b[0m\u001b[0;34m\u001b[0m\u001b[0;34m\u001b[0m\u001b[0m\n\u001b[1;32m      4\u001b[0m     \u001b[0mtime\u001b[0m\u001b[0;34m.\u001b[0m\u001b[0mminute\u001b[0m \u001b[0;34m=\u001b[0m \u001b[0;36m59\u001b[0m\u001b[0;34m\u001b[0m\u001b[0;34m\u001b[0m\u001b[0m\n\u001b[1;32m      5\u001b[0m     \u001b[0mtime\u001b[0m\u001b[0;34m.\u001b[0m\u001b[0msecond\u001b[0m \u001b[0;34m=\u001b[0m \u001b[0;36m30\u001b[0m\u001b[0;34m\u001b[0m\u001b[0;34m\u001b[0m\u001b[0m\n",
      "\u001b[0;32m<ipython-input-3-c550c1e1e889>\u001b[0m in \u001b[0;36mTime\u001b[0;34m()\u001b[0m\n\u001b[1;32m      1\u001b[0m \u001b[0;32mclass\u001b[0m \u001b[0mTime\u001b[0m\u001b[0;34m(\u001b[0m\u001b[0mobject\u001b[0m\u001b[0;34m)\u001b[0m\u001b[0;34m:\u001b[0m\u001b[0;34m\u001b[0m\u001b[0;34m\u001b[0m\u001b[0m\n\u001b[0;32m----> 2\u001b[0;31m     \u001b[0mtime\u001b[0m \u001b[0;34m=\u001b[0m \u001b[0mTime\u001b[0m\u001b[0;34m(\u001b[0m\u001b[0mobject\u001b[0m\u001b[0;34m)\u001b[0m\u001b[0;34m\u001b[0m\u001b[0;34m\u001b[0m\u001b[0m\n\u001b[0m\u001b[1;32m      3\u001b[0m     \u001b[0mtime\u001b[0m\u001b[0;34m.\u001b[0m\u001b[0mhour\u001b[0m \u001b[0;34m=\u001b[0m \u001b[0;36m11\u001b[0m\u001b[0;34m\u001b[0m\u001b[0;34m\u001b[0m\u001b[0m\n\u001b[1;32m      4\u001b[0m     \u001b[0mtime\u001b[0m\u001b[0;34m.\u001b[0m\u001b[0mminute\u001b[0m \u001b[0;34m=\u001b[0m \u001b[0;36m59\u001b[0m\u001b[0;34m\u001b[0m\u001b[0;34m\u001b[0m\u001b[0m\n\u001b[1;32m      5\u001b[0m     \u001b[0mtime\u001b[0m\u001b[0;34m.\u001b[0m\u001b[0msecond\u001b[0m \u001b[0;34m=\u001b[0m \u001b[0;36m30\u001b[0m\u001b[0;34m\u001b[0m\u001b[0;34m\u001b[0m\u001b[0m\n",
      "\u001b[0;31mNameError\u001b[0m: name 'Time' is not defined"
     ]
    }
   ],
   "source": [
    "class Time(object): \n",
    "    time = Time()\n",
    "    time.hour = 11\n",
    "    time.minute = 59\n",
    "    time.second = 30 \n",
    "    print(time)\n",
    "\n",
    "    def time_to_int(time):\n",
    "        minutes = time.hour * 60 + time.minute\n",
    "        seconds = minutes * 60 + time.second\n",
    "        return seconds\n",
    "    print('initial time',time_to_int)   # I cannot figure out this part of printing for the life of me :(\n",
    "                                        # I did lot's of googling... but I didn't think this result was worth\n",
    "                                        # applying it to each cell.\n",
    "\n",
    "    def int_to_time(seconds):\n",
    "        time = Time()\n",
    "        minutes, time.second = divmod(seconds, 60)\n",
    "        time.hour, time.minute = divmod(minutes, 60)\n",
    "        return time\n",
    "\n",
    "    def mul_time(time, factor):\n",
    "        seconds = time_to_int(time)\n",
    "        seconds *= factor\n",
    "        seconds = int(seconds)\n",
    "        return int_to_time(seconds)\n",
    "\n",
    "    def average_pace(time, distance):\n",
    "        return mul_time(time, 1/distance)\n"
   ]
  },
  {
   "cell_type": "code",
   "execution_count": 14,
   "metadata": {},
   "outputs": [
    {
     "name": "stdout",
     "output_type": "stream",
     "text": [
      "Please enter the date of your birth in the format \"mm/dd/yyyy\": 02/07/1999\n",
      "\n",
      "You are 21 years old.\n",
      "You have 321 days, 10 hours, 29 minutes and 1 seconds left until your next birthday.\n"
     ]
    }
   ],
   "source": [
    "from datetime import datetime\n",
    "\n",
    "def time_until_birthday():\n",
    "    dob_input = input(('Please enter the date of your birth in '\n",
    "                       'the format \"mm/dd/yyyy\": '))\n",
    "    dob = datetime.strptime(dob_input, '%m/%d/%Y')\n",
    "    now = datetime.now()\n",
    "    if now > datetime(now.year, dob.month, dob.day):\n",
    "        age = now.year - dob.year\n",
    "        next_year = True\n",
    "    else:\n",
    "        age = now.year - dob.year - 1\n",
    "        next_year = False\n",
    "    time_to_birthday = datetime(now.year + next_year,\n",
    "                                dob.month, dob.day) - now\n",
    "    days = time_to_birthday.days\n",
    "    hours, remainder = divmod(time_to_birthday.seconds, 3600)\n",
    "    minutes, seconds = divmod(remainder, 60)\n",
    "    print(\"\\nYou are {} years old.\".format(age))\n",
    "    print((\"You have {0} days, {1} hours, {2} minutes and {3} \"\n",
    "           \"seconds left until your next birthday.\").format(\n",
    "               days, hours, minutes, seconds))\n",
    "\n",
    "time_until_birthday()"
   ]
  },
  {
   "cell_type": "code",
   "execution_count": 15,
   "metadata": {},
   "outputs": [
    {
     "name": "stdout",
     "output_type": "stream",
     "text": [
      "Today's date and the day of the week:\n",
      "2020-03-22 13:31:17.947676\n",
      "Sunday\n",
      "Your next birthday and how far away it is:\n",
      "2021-02-07 00:00:00\n",
      "321 days, 10:28:42.052324\n",
      "Your current age:\n",
      "21\n",
      "For people born on these dates:\n",
      "1999-02-07 00:00:00\n",
      "1964-08-10 00:00:00\n",
      "Double Day is\n",
      "2033-08-06 00:00:00\n"
     ]
    }
   ],
   "source": [
    "from __future__ import print_function, division\n",
    "\n",
    "from datetime import datetime\n",
    "\n",
    "\n",
    "def main():\n",
    "    print(\"Today's date and the day of the week:\")\n",
    "    today = datetime.today()\n",
    "    print(today)\n",
    "    print(today.strftime(\"%A\"))\n",
    "\n",
    "    print(\"Your next birthday and how far away it is:\")\n",
    "    s = '02/07/1999'\n",
    "    bday = datetime.strptime(s, '%m/%d/%Y')\n",
    "\n",
    "    next_bday = bday.replace(year=today.year)\n",
    "    if next_bday < today:\n",
    "        next_bday = next_bday.replace(year=today.year+1)\n",
    "    print(next_bday)\n",
    "\n",
    "    until_next_bday = next_bday - today\n",
    "    print(until_next_bday)\n",
    "\n",
    "    print(\"Your current age:\")\n",
    "    last_bday = next_bday.replace(year=next_bday.year-1)\n",
    "    age = last_bday.year - bday.year\n",
    "    print(age)\n",
    "\n",
    "    print(\"For people born on these dates:\")\n",
    "    bday1 = datetime(day=7, month=2, year=1999)\n",
    "    bday2 = datetime(day=10, month=8, year=1964)\n",
    "    print(bday1)\n",
    "    print(bday2)\n",
    "\n",
    "    print(\"Double Day is\")\n",
    "    d1 = min(bday1, bday2)\n",
    "    d2 = max(bday1, bday2)\n",
    "    dd = d2 + (d2 - d1)\n",
    "    print(dd)\n",
    "\n",
    "\n",
    "if __name__ == '__main__':\n",
    "    main()"
   ]
  },
  {
   "cell_type": "code",
   "execution_count": null,
   "metadata": {},
   "outputs": [],
   "source": []
  }
 ],
 "metadata": {
  "kernelspec": {
   "display_name": "Python 3",
   "language": "python",
   "name": "python3"
  },
  "language_info": {
   "codemirror_mode": {
    "name": "ipython",
    "version": 3
   },
   "file_extension": ".py",
   "mimetype": "text/x-python",
   "name": "python",
   "nbconvert_exporter": "python",
   "pygments_lexer": "ipython3",
   "version": "3.7.4"
  }
 },
 "nbformat": 4,
 "nbformat_minor": 2
}
